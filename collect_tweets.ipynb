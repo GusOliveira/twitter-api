{
 "cells": [
  {
   "cell_type": "code",
   "execution_count": 8,
   "id": "a98743c6",
   "metadata": {},
   "outputs": [
    {
     "data": {
      "text/plain": [
       "True"
      ]
     },
     "execution_count": 8,
     "metadata": {},
     "output_type": "execute_result"
    }
   ],
   "source": [
    "import requests\n",
    "import os\n",
    "import json\n",
    "from dotenv import load_dotenv\n",
    "\n",
    "load_dotenv()\n"
   ]
  },
  {
   "cell_type": "code",
   "execution_count": 9,
   "id": "0f5fc517",
   "metadata": {},
   "outputs": [],
   "source": [
    "bearer_token = os.environ.get(\"BEARER_TOKEN\")\n",
    "\n"
   ]
  },
  {
   "cell_type": "code",
   "execution_count": 55,
   "id": "66c3e6cc",
   "metadata": {},
   "outputs": [],
   "source": [
    "def create_url():\n",
    "    # Replace with user ID below\n",
    "    user_id = 44196397\n",
    "    return \"https://api.twitter.com/2/users/{}/tweets\".format(user_id)\n"
   ]
  },
  {
   "cell_type": "code",
   "execution_count": 56,
   "id": "a0db9465",
   "metadata": {},
   "outputs": [],
   "source": [
    "def get_params():\n",
    "    # Tweet fields are adjustable.\n",
    "    # Options include:\n",
    "    # attachments, author_id, context_annotations,\n",
    "    # conversation_id, created_at, entities, geo, id,\n",
    "    # in_reply_to_user_id, lang, non_public_metrics, organic_metrics,\n",
    "    # possibly_sensitive, promoted_metrics, public_metrics, referenced_tweets,\n",
    "    # source, text, and withheld\n",
    "    return {\"tweet.fields\": \"created_at\"}\n"
   ]
  },
  {
   "cell_type": "code",
   "execution_count": 57,
   "id": "fc0a83d0",
   "metadata": {},
   "outputs": [],
   "source": [
    "def bearer_oauth(r):\n",
    "    \"\"\"\n",
    "    Method required by bearer token authentication.\n",
    "    \"\"\"\n",
    "\n",
    "    r.headers[\"Authorization\"] = f\"Bearer {bearer_token}\"\n",
    "    r.headers[\"User-Agent\"] = \"v2UserTweetsPython\"\n",
    "    return r"
   ]
  },
  {
   "cell_type": "code",
   "execution_count": 58,
   "id": "445d0593",
   "metadata": {},
   "outputs": [],
   "source": [
    "def connect_to_endpoint(url, params):\n",
    "    response = requests.request(\"GET\", url, auth=bearer_oauth, params=params)\n",
    "    print(response.status_code)\n",
    "    if response.status_code != 200:\n",
    "        raise Exception(\n",
    "            \"Request returned an error: {} {}\".format(\n",
    "                response.status_code, response.text\n",
    "            )\n",
    "        )\n",
    "    return response.json()"
   ]
  },
  {
   "cell_type": "code",
   "execution_count": 59,
   "id": "ff50f8dd",
   "metadata": {},
   "outputs": [
    {
     "name": "stdout",
     "output_type": "stream",
     "text": [
      "200\n",
      "{\n",
      "    \"data\": [\n",
      "        {\n",
      "            \"created_at\": \"2022-07-24T05:17:02.000Z\",\n",
      "            \"id\": \"1551073952025284609\",\n",
      "            \"text\": \"@wintonARK Self-driving electric cars will be all that matters. \\n\\nGas car without autonomy will be like riding a horse &amp; using a flip phone. That still happens, but it\\u2019s niche.\"\n",
      "        },\n",
      "        {\n",
      "            \"created_at\": \"2022-07-24T04:53:47.000Z\",\n",
      "            \"id\": \"1551068102753800192\",\n",
      "            \"text\": \"@WholeMarsBlog Software is the key to the future\"\n",
      "        },\n",
      "        {\n",
      "            \"created_at\": \"2022-07-24T04:51:58.000Z\",\n",
      "            \"id\": \"1551067642709954560\",\n",
      "            \"text\": \"@wintonARK Ferdinand Pi\\u00ebch had 13 kids\"\n",
      "        },\n",
      "        {\n",
      "            \"created_at\": \"2022-07-24T04:38:07.000Z\",\n",
      "            \"id\": \"1551064160271683586\",\n",
      "            \"text\": \"@SpaceX Falcon rising through fog\"\n",
      "        },\n",
      "        {\n",
      "            \"created_at\": \"2022-07-24T04:34:19.000Z\",\n",
      "            \"id\": \"1551063203794132994\",\n",
      "            \"text\": \"@SpaceX Falcon over the moon\"\n",
      "        },\n",
      "        {\n",
      "            \"created_at\": \"2022-07-24T04:17:38.000Z\",\n",
      "            \"id\": \"1551059005560172544\",\n",
      "            \"text\": \"From SJM https://t.co/t6xAiMyz9m\"\n",
      "        },\n",
      "        {\n",
      "            \"created_at\": \"2022-07-24T03:58:16.000Z\",\n",
      "            \"id\": \"1551054131413991424\",\n",
      "            \"text\": \"https://t.co/TpGbs06lnT\"\n",
      "        },\n",
      "        {\n",
      "            \"created_at\": \"2022-07-24T03:54:01.000Z\",\n",
      "            \"id\": \"1551053060490678272\",\n",
      "            \"text\": \"Schadenfreude oder Schatzifreude?\"\n",
      "        },\n",
      "        {\n",
      "            \"created_at\": \"2022-07-24T03:44:32.000Z\",\n",
      "            \"id\": \"1551050674925756417\",\n",
      "            \"text\": \"@vivid_software Schatzenfreude\"\n",
      "        },\n",
      "        {\n",
      "            \"created_at\": \"2022-07-24T03:22:13.000Z\",\n",
      "            \"id\": \"1551045057578291200\",\n",
      "            \"text\": \"@Armand_Gman Great thread\"\n",
      "        }\n",
      "    ],\n",
      "    \"meta\": {\n",
      "        \"newest_id\": \"1551073952025284609\",\n",
      "        \"next_token\": \"7140dibdnow9c7btw422ndmhet7xubli2334nkcd6tyy8\",\n",
      "        \"oldest_id\": \"1551045057578291200\",\n",
      "        \"result_count\": 10\n",
      "    }\n",
      "}\n"
     ]
    }
   ],
   "source": [
    "def main():\n",
    "    url = create_url()\n",
    "    params = get_params()\n",
    "    json_response = connect_to_endpoint(url, params)\n",
    "    print(json.dumps(json_response, indent=4, sort_keys=True))\n",
    "\n",
    "\n",
    "if __name__ == \"__main__\":\n",
    "    \n",
    "   # user_list = [44196397, 3432951370, 437824506]\n",
    "    \n",
    "    #for i in range(len(user_list)):\n",
    "     #   user[i] = user_list[i]\n",
    "    main()"
   ]
  },
  {
   "cell_type": "code",
   "execution_count": null,
   "id": "7b710657",
   "metadata": {},
   "outputs": [],
   "source": []
  }
 ],
 "metadata": {
  "kernelspec": {
   "display_name": "Python 3 (ipykernel)",
   "language": "python",
   "name": "python3"
  },
  "language_info": {
   "codemirror_mode": {
    "name": "ipython",
    "version": 3
   },
   "file_extension": ".py",
   "mimetype": "text/x-python",
   "name": "python",
   "nbconvert_exporter": "python",
   "pygments_lexer": "ipython3",
   "version": "3.9.7"
  }
 },
 "nbformat": 4,
 "nbformat_minor": 5
}
